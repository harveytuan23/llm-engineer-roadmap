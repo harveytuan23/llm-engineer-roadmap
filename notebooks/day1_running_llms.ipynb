{
 "cells": [
  {
   "cell_type": "markdown",
   "id": "7e03a955",
   "metadata": {},
   "source": [
    "Day 1: Running LLMs (Groq API + HuggingFace)\n",
    "Author: Harvey"
   ]
  },
  {
   "cell_type": "code",
   "execution_count": 3,
   "id": "726d2339",
   "metadata": {},
   "outputs": [
    {
     "name": "stdout",
     "output_type": "stream",
     "text": [
      "Requirement already satisfied: groq in /Users/duan/llm-engineer-roadmap/.llmvenv/lib/python3.13/site-packages (0.31.0)\n",
      "Requirement already satisfied: anyio<5,>=3.5.0 in /Users/duan/llm-engineer-roadmap/.llmvenv/lib/python3.13/site-packages (from groq) (4.10.0)\n",
      "Requirement already satisfied: distro<2,>=1.7.0 in /Users/duan/llm-engineer-roadmap/.llmvenv/lib/python3.13/site-packages (from groq) (1.9.0)\n",
      "Requirement already satisfied: httpx<1,>=0.23.0 in /Users/duan/llm-engineer-roadmap/.llmvenv/lib/python3.13/site-packages (from groq) (0.28.1)\n",
      "Requirement already satisfied: pydantic<3,>=1.9.0 in /Users/duan/llm-engineer-roadmap/.llmvenv/lib/python3.13/site-packages (from groq) (2.11.7)\n",
      "Requirement already satisfied: sniffio in /Users/duan/llm-engineer-roadmap/.llmvenv/lib/python3.13/site-packages (from groq) (1.3.1)\n",
      "Requirement already satisfied: typing-extensions<5,>=4.10 in /Users/duan/llm-engineer-roadmap/.llmvenv/lib/python3.13/site-packages (from groq) (4.15.0)\n",
      "Requirement already satisfied: idna>=2.8 in /Users/duan/llm-engineer-roadmap/.llmvenv/lib/python3.13/site-packages (from anyio<5,>=3.5.0->groq) (3.10)\n",
      "Requirement already satisfied: certifi in /Users/duan/llm-engineer-roadmap/.llmvenv/lib/python3.13/site-packages (from httpx<1,>=0.23.0->groq) (2025.8.3)\n",
      "Requirement already satisfied: httpcore==1.* in /Users/duan/llm-engineer-roadmap/.llmvenv/lib/python3.13/site-packages (from httpx<1,>=0.23.0->groq) (1.0.9)\n",
      "Requirement already satisfied: h11>=0.16 in /Users/duan/llm-engineer-roadmap/.llmvenv/lib/python3.13/site-packages (from httpcore==1.*->httpx<1,>=0.23.0->groq) (0.16.0)\n",
      "Requirement already satisfied: annotated-types>=0.6.0 in /Users/duan/llm-engineer-roadmap/.llmvenv/lib/python3.13/site-packages (from pydantic<3,>=1.9.0->groq) (0.7.0)\n",
      "Requirement already satisfied: pydantic-core==2.33.2 in /Users/duan/llm-engineer-roadmap/.llmvenv/lib/python3.13/site-packages (from pydantic<3,>=1.9.0->groq) (2.33.2)\n",
      "Requirement already satisfied: typing-inspection>=0.4.0 in /Users/duan/llm-engineer-roadmap/.llmvenv/lib/python3.13/site-packages (from pydantic<3,>=1.9.0->groq) (0.4.1)\n",
      "\n",
      "\u001b[1m[\u001b[0m\u001b[34;49mnotice\u001b[0m\u001b[1;39;49m]\u001b[0m\u001b[39;49m A new release of pip is available: \u001b[0m\u001b[31;49m25.1.1\u001b[0m\u001b[39;49m -> \u001b[0m\u001b[32;49m25.2\u001b[0m\n",
      "\u001b[1m[\u001b[0m\u001b[34;49mnotice\u001b[0m\u001b[1;39;49m]\u001b[0m\u001b[39;49m To update, run: \u001b[0m\u001b[32;49mpip install --upgrade pip\u001b[0m\n"
     ]
    }
   ],
   "source": [
    "# ==========================\n",
    "# 0. 安裝 Groq SDK (第一次要執行)\n",
    "# ==========================\n",
    "!pip install groq"
   ]
  },
  {
   "cell_type": "code",
   "execution_count": 4,
   "id": "abe002fc",
   "metadata": {},
   "outputs": [
    {
     "name": "stdout",
     "output_type": "stream",
     "text": [
      "None\n"
     ]
    }
   ],
   "source": [
    "import os\n",
    "api_key = os.getenv(\"GROQ_API_KEY\")\n",
    "print(api_key) "
   ]
  },
  {
   "cell_type": "code",
   "execution_count": 2,
   "id": "05043d04",
   "metadata": {},
   "outputs": [
    {
     "ename": "GroqError",
     "evalue": "The api_key client option must be set either by passing api_key to the client or by setting the GROQ_API_KEY environment variable",
     "output_type": "error",
     "traceback": [
      "\u001b[31m---------------------------------------------------------------------------\u001b[39m",
      "\u001b[31mGroqError\u001b[39m                                 Traceback (most recent call last)",
      "\u001b[36mCell\u001b[39m\u001b[36m \u001b[39m\u001b[32mIn[2]\u001b[39m\u001b[32m, line 7\u001b[39m\n\u001b[32m      4\u001b[39m \u001b[38;5;28;01mfrom\u001b[39;00m\u001b[38;5;250m \u001b[39m\u001b[34;01mgroq\u001b[39;00m\u001b[38;5;250m \u001b[39m\u001b[38;5;28;01mimport\u001b[39;00m Groq\n\u001b[32m      6\u001b[39m \u001b[38;5;66;03m# ⚠️ 先在環境變數設定: export GROQ_API_KEY=\"your_api_key\"\u001b[39;00m\n\u001b[32m----> \u001b[39m\u001b[32m7\u001b[39m client = \u001b[43mGroq\u001b[49m\u001b[43m(\u001b[49m\u001b[43m)\u001b[49m\n\u001b[32m      9\u001b[39m \u001b[38;5;66;03m# ==========================\u001b[39;00m\n\u001b[32m     10\u001b[39m \u001b[38;5;66;03m# 2. 基本對話範例\u001b[39;00m\n\u001b[32m     11\u001b[39m \u001b[38;5;66;03m# ==========================\u001b[39;00m\n\u001b[32m     12\u001b[39m response = client.chat.completions.create(\n\u001b[32m     13\u001b[39m     model=\u001b[33m\"\u001b[39m\u001b[33mllama-3.1-8b-instant\u001b[39m\u001b[33m\"\u001b[39m,  \u001b[38;5;66;03m# 你可以換成 \"llama-3.1-70b\" 試試\u001b[39;00m\n\u001b[32m     14\u001b[39m     messages=[\n\u001b[32m   (...)\u001b[39m\u001b[32m     17\u001b[39m     ]\n\u001b[32m     18\u001b[39m )\n",
      "\u001b[36mFile \u001b[39m\u001b[32m~/llm-engineer-roadmap/.llmvenv/lib/python3.13/site-packages/groq/_client.py:79\u001b[39m, in \u001b[36mGroq.__init__\u001b[39m\u001b[34m(self, api_key, base_url, timeout, max_retries, default_headers, default_query, http_client, _strict_response_validation)\u001b[39m\n\u001b[32m     77\u001b[39m     api_key = os.environ.get(\u001b[33m\"\u001b[39m\u001b[33mGROQ_API_KEY\u001b[39m\u001b[33m\"\u001b[39m)\n\u001b[32m     78\u001b[39m \u001b[38;5;28;01mif\u001b[39;00m api_key \u001b[38;5;129;01mis\u001b[39;00m \u001b[38;5;28;01mNone\u001b[39;00m:\n\u001b[32m---> \u001b[39m\u001b[32m79\u001b[39m     \u001b[38;5;28;01mraise\u001b[39;00m GroqError(\n\u001b[32m     80\u001b[39m         \u001b[33m\"\u001b[39m\u001b[33mThe api_key client option must be set either by passing api_key to the client or by setting the GROQ_API_KEY environment variable\u001b[39m\u001b[33m\"\u001b[39m\n\u001b[32m     81\u001b[39m     )\n\u001b[32m     82\u001b[39m \u001b[38;5;28mself\u001b[39m.api_key = api_key\n\u001b[32m     84\u001b[39m \u001b[38;5;28;01mif\u001b[39;00m base_url \u001b[38;5;129;01mis\u001b[39;00m \u001b[38;5;28;01mNone\u001b[39;00m:\n",
      "\u001b[31mGroqError\u001b[39m: The api_key client option must be set either by passing api_key to the client or by setting the GROQ_API_KEY environment variable"
     ]
    }
   ],
   "source": [
    "# ==========================\n",
    "# 1. Import & 初始化\n",
    "# ==========================\n",
    "from groq import Groq\n",
    "\n",
    "# ⚠️ 先在環境變數設定: export GROQ_API_KEY=\"your_api_key\"\n",
    "client = Groq()\n",
    "\n",
    "# ==========================\n",
    "# 2. 基本對話範例\n",
    "# ==========================\n",
    "response = client.chat.completions.create(\n",
    "    model=\"llama-3.1-8b-instant\",  # 你可以換成 \"llama-3.1-70b\" 試試\n",
    "    messages=[\n",
    "        {\"role\": \"system\", \"content\": \"You are a helpful AI assistant.\"},\n",
    "        {\"role\": \"user\", \"content\": \"Explain Retrieval Augmented Generation in 3 sentences.\"}\n",
    "    ]\n",
    ")\n",
    "\n",
    "print(\"Groq LLM Response:\")\n",
    "print(response.choices[0].message.content)"
   ]
  },
  {
   "cell_type": "markdown",
   "id": "87cf5fd3",
   "metadata": {},
   "source": []
  },
  {
   "cell_type": "code",
   "execution_count": null,
   "id": "4f233f64",
   "metadata": {},
   "outputs": [],
   "source": []
  }
 ],
 "metadata": {
  "kernelspec": {
   "display_name": ".llmvenv",
   "language": "python",
   "name": "python3"
  },
  "language_info": {
   "codemirror_mode": {
    "name": "ipython",
    "version": 3
   },
   "file_extension": ".py",
   "mimetype": "text/x-python",
   "name": "python",
   "nbconvert_exporter": "python",
   "pygments_lexer": "ipython3",
   "version": "3.13.3"
  }
 },
 "nbformat": 4,
 "nbformat_minor": 5
}
